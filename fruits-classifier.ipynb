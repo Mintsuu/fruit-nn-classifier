{
 "cells": [
  {
   "cell_type": "code",
   "execution_count": null,
   "metadata": {},
   "outputs": [
    {
     "ename": "TypeError",
     "evalue": "prepare_data() missing 1 required positional argument: 'device'",
     "output_type": "error",
     "traceback": [
      "\u001b[31m---------------------------------------------------------------------------\u001b[39m",
      "\u001b[31mTypeError\u001b[39m                                 Traceback (most recent call last)",
      "\u001b[36mCell\u001b[39m\u001b[36m \u001b[39m\u001b[32mIn[1]\u001b[39m\u001b[32m, line 15\u001b[39m\n\u001b[32m     12\u001b[39m optimizer = optim.Adam(model.parameters(), lr=\u001b[32m0.001\u001b[39m)\n\u001b[32m     14\u001b[39m dir_train = \u001b[33m\"\u001b[39m\u001b[33m./train\u001b[39m\u001b[33m\"\u001b[39m\n\u001b[32m---> \u001b[39m\u001b[32m15\u001b[39m output_labels, filepaths, labels = \u001b[43mprepare_data\u001b[49m\u001b[43m(\u001b[49m\u001b[43mdir_train\u001b[49m\u001b[43m)\u001b[49m\n\u001b[32m     17\u001b[39m train(model, criterion, optimizer, filepaths, labels)\n\u001b[32m     19\u001b[39m \u001b[38;5;66;03m# Test the model\u001b[39;00m\n",
      "\u001b[31mTypeError\u001b[39m: prepare_data() missing 1 required positional argument: 'device'"
     ]
    }
   ],
   "source": [
    "import torch\n",
    "import torch.nn as nn\n",
    "import torch.optim as optim\n",
    "from SimpleNN import SimpleCNN, FruitCNN, train, test\n",
    "from Util import prepare_data\n",
    "\n",
    "# Set device type (check if you have a NVIDIA card)\n",
    "device = torch.device(\"cuda\" if torch.cuda.is_available() else \"cpu\")\n",
    "# Instantiate the model, define the loss function and optimizer\n",
    "model = FruitCNN()\n",
    "criterion = nn.CrossEntropyLoss() # define loss function\n",
    "optimizer = optim.Adam(model.parameters(), lr=0.001)\n",
    "\n",
    "dir_train = \"./train\"\n",
    "output_labels, filepaths, labels = prepare_data(dir_train)\n",
    "\n",
    "train(model, criterion, optimizer, filepaths, labels)\n",
    "\n",
    "# Test the model\n",
    "dir_test = \"./test/\"\n",
    "_, filepaths, labels = prepare_data(dir_test)\n",
    "test(model, filepaths, labels)"
   ]
  }
 ],
 "metadata": {
  "kernelspec": {
   "display_name": "ml",
   "language": "python",
   "name": "python3"
  },
  "language_info": {
   "codemirror_mode": {
    "name": "ipython",
    "version": 3
   },
   "file_extension": ".py",
   "mimetype": "text/x-python",
   "name": "python",
   "nbconvert_exporter": "python",
   "pygments_lexer": "ipython3",
   "version": "3.11.11"
  }
 },
 "nbformat": 4,
 "nbformat_minor": 2
}
